{
 "cells": [
  {
   "cell_type": "markdown",
   "metadata": {
    "id": "TPUrRhU8VOCl"
   },
   "source": [
    "# I. Gradient Descent untuk Regresi Logistik\n",
    "\n",
    "**Tujuan Pembelajaran:** mampu mengimplementasikan algoritma Gradient Descent Regresi Logistik untuk Klasifikasi.\n",
    "\n",
    "Dalam tugas ini, Anda akan diberikan sebuah data dummy untuk tugas klasifikasi. Buatlah algoritma Gradient Descent untuk membuat model prediksi label."
   ]
  },
  {
   "cell_type": "code",
   "execution_count": 1,
   "metadata": {
    "id": "uImqWxQ8VWVZ"
   },
   "outputs": [],
   "source": [
    "import numpy as np\n",
    "import matplotlib.pyplot as plt\n",
    "import seaborn as sns\n",
    "import pandas as pd"
   ]
  },
  {
   "cell_type": "code",
   "execution_count": 2,
   "metadata": {
    "colab": {
     "base_uri": "https://localhost:8080/",
     "height": 423
    },
    "executionInfo": {
     "elapsed": 356,
     "status": "ok",
     "timestamp": 1644669801480,
     "user": {
      "displayName": "Yozef Giovanni Tjandra",
      "photoUrl": "https://lh3.googleusercontent.com/a/default-user=s64",
      "userId": "03277432154125538365"
     },
     "user_tz": -420
    },
    "id": "F45JpmvjVZFW",
    "outputId": "06fa3495-c426-40a0-cbe7-a47b36d0958a"
   },
   "outputs": [
    {
     "data": {
      "text/html": [
       "<div>\n",
       "<style scoped>\n",
       "    .dataframe tbody tr th:only-of-type {\n",
       "        vertical-align: middle;\n",
       "    }\n",
       "\n",
       "    .dataframe tbody tr th {\n",
       "        vertical-align: top;\n",
       "    }\n",
       "\n",
       "    .dataframe thead th {\n",
       "        text-align: right;\n",
       "    }\n",
       "</style>\n",
       "<table border=\"1\" class=\"dataframe\">\n",
       "  <thead>\n",
       "    <tr style=\"text-align: right;\">\n",
       "      <th></th>\n",
       "      <th>x1</th>\n",
       "      <th>x2</th>\n",
       "      <th>Class</th>\n",
       "    </tr>\n",
       "  </thead>\n",
       "  <tbody>\n",
       "    <tr>\n",
       "      <th>0</th>\n",
       "      <td>34.623660</td>\n",
       "      <td>78.024693</td>\n",
       "      <td>0</td>\n",
       "    </tr>\n",
       "    <tr>\n",
       "      <th>1</th>\n",
       "      <td>30.286711</td>\n",
       "      <td>43.894998</td>\n",
       "      <td>0</td>\n",
       "    </tr>\n",
       "    <tr>\n",
       "      <th>2</th>\n",
       "      <td>35.847409</td>\n",
       "      <td>72.902198</td>\n",
       "      <td>0</td>\n",
       "    </tr>\n",
       "    <tr>\n",
       "      <th>3</th>\n",
       "      <td>60.182599</td>\n",
       "      <td>86.308552</td>\n",
       "      <td>1</td>\n",
       "    </tr>\n",
       "    <tr>\n",
       "      <th>4</th>\n",
       "      <td>79.032736</td>\n",
       "      <td>75.344376</td>\n",
       "      <td>1</td>\n",
       "    </tr>\n",
       "    <tr>\n",
       "      <th>...</th>\n",
       "      <td>...</td>\n",
       "      <td>...</td>\n",
       "      <td>...</td>\n",
       "    </tr>\n",
       "    <tr>\n",
       "      <th>95</th>\n",
       "      <td>83.489163</td>\n",
       "      <td>48.380286</td>\n",
       "      <td>1</td>\n",
       "    </tr>\n",
       "    <tr>\n",
       "      <th>96</th>\n",
       "      <td>42.261701</td>\n",
       "      <td>87.103851</td>\n",
       "      <td>1</td>\n",
       "    </tr>\n",
       "    <tr>\n",
       "      <th>97</th>\n",
       "      <td>99.315009</td>\n",
       "      <td>68.775409</td>\n",
       "      <td>1</td>\n",
       "    </tr>\n",
       "    <tr>\n",
       "      <th>98</th>\n",
       "      <td>55.340018</td>\n",
       "      <td>64.931938</td>\n",
       "      <td>1</td>\n",
       "    </tr>\n",
       "    <tr>\n",
       "      <th>99</th>\n",
       "      <td>74.775893</td>\n",
       "      <td>89.529813</td>\n",
       "      <td>1</td>\n",
       "    </tr>\n",
       "  </tbody>\n",
       "</table>\n",
       "<p>100 rows × 3 columns</p>\n",
       "</div>"
      ],
      "text/plain": [
       "           x1         x2  Class\n",
       "0   34.623660  78.024693      0\n",
       "1   30.286711  43.894998      0\n",
       "2   35.847409  72.902198      0\n",
       "3   60.182599  86.308552      1\n",
       "4   79.032736  75.344376      1\n",
       "..        ...        ...    ...\n",
       "95  83.489163  48.380286      1\n",
       "96  42.261701  87.103851      1\n",
       "97  99.315009  68.775409      1\n",
       "98  55.340018  64.931938      1\n",
       "99  74.775893  89.529813      1\n",
       "\n",
       "[100 rows x 3 columns]"
      ]
     },
     "metadata": {},
     "output_type": "display_data"
    }
   ],
   "source": [
    "data = pd.read_csv('data_logistic.txt', names = ['x1', 'x2', 'Class'])\n",
    "display(data)"
   ]
  },
  {
   "cell_type": "markdown",
   "metadata": {
    "id": "oMJXxKQSem_o"
   },
   "source": [
    "## Melakukan visualisasi Data\n",
    "\n",
    "Untuk memberikan gambaran mengenai sebaran data yang diberikan, kita dapat menggunakan fitur Seaborn untuk menggambar scatter plot dari data ```x1``` dan ```x2``` yang dibedakan warnanya berdasarkan labelnya pada kolom ```y```."
   ]
  },
  {
   "cell_type": "code",
   "execution_count": 3,
   "metadata": {
    "colab": {
     "base_uri": "https://localhost:8080/",
     "height": 297
    },
    "executionInfo": {
     "elapsed": 1150,
     "status": "ok",
     "timestamp": 1644669805932,
     "user": {
      "displayName": "Yozef Giovanni Tjandra",
      "photoUrl": "https://lh3.googleusercontent.com/a/default-user=s64",
      "userId": "03277432154125538365"
     },
     "user_tz": -420
    },
    "id": "AjZ55lUoVc3f",
    "outputId": "68c911f3-fe39-4351-a1fe-7baf8b9586d9"
   },
   "outputs": [
    {
     "data": {
      "text/plain": [
       "<AxesSubplot:xlabel='x1', ylabel='x2'>"
      ]
     },
     "execution_count": 3,
     "metadata": {},
     "output_type": "execute_result"
    },
    {
     "data": {
      "image/png": "[encoded data removed]",
      "text/plain": [
       "<Figure size 640x480 with 1 Axes>"
      ]
     },
     "metadata": {},
     "output_type": "display_data"
    }
   ],
   "source": [
    "sns.scatterplot(x=\"x1\", y=\"x2\", hue='Class', data=data)"
   ]
  },
  {
   "cell_type": "markdown",
   "metadata": {
    "id": "7p3wpz3qfFac"
   },
   "source": [
    "## Membangun model dengan Gradient Descent\n",
    "\n",
    "Buatlah model regresi logistik (cari nilai parameter theta) untuk data yang diberikan dengan mengisi bagian yang kosong pada kode di bawah ini."
   ]
  },
  {
   "cell_type": "code",
   "execution_count": 4,
   "metadata": {
    "id": "BYGLEeo8WGI0"
   },
   "outputs": [
    {
     "ename": "SyntaxError",
     "evalue": "invalid syntax (2601763086.py, line 4)",
     "output_type": "error",
     "traceback": [
      "\u001b[1;36m  File \u001b[1;32m\"C:\\Users\\jeson\\AppData\\Local\\Temp\\ipykernel_27744\\2601763086.py\"\u001b[1;36m, line \u001b[1;32m4\u001b[0m\n\u001b[1;33m    X = # isi kode di sini\u001b[0m\n\u001b[1;37m        ^\u001b[0m\n\u001b[1;31mSyntaxError\u001b[0m\u001b[1;31m:\u001b[0m invalid syntax\n"
     ]
    }
   ],
   "source": [
    "# X adalah matriks data latih/variabel input\n",
    "# y adalah vektor label/variabel output\n",
    "\n",
    "X = # isi kode di sini\n",
    "y = # isi kode di sini"
   ]
  },
  {
   "cell_type": "code",
   "execution_count": null,
   "metadata": {
    "id": "l3LNTT4ZdkqD"
   },
   "outputs": [],
   "source": [
    "# Logistic Regression Grad Descent\n",
    "\n",
    "# pilih nilai hyperparameter yang sesuai\n",
    "numIterations = # isi kode di sini\n",
    "alpha = # isi kode di sini\n",
    "\n",
    "# catatan: untuk mempersingkat waktu komputasi, fungsi cukup \n",
    "#          me-return nilai theta yang terkini saja; \n",
    "#          tidak perlu simpan semua kronologisnya.\n",
    "\n",
    "def GradDescLogistic(X, y, numIterations, alpha):\n",
    "    m, n = np.shape(X)\n",
    "    theta = np.zeros(n+1)\n",
    "    \n",
    "    # isi kode di sini\n",
    "\n",
    "    return theta\n",
    "\n",
    "theta = GradDescLogistic(X, y, numIterations, alpha)\n",
    "print(theta)"
   ]
  },
  {
   "cell_type": "markdown",
   "metadata": {
    "id": "ck3-0jGKgE59"
   },
   "source": [
    "## Membangun visualisasi Hasil Prediksi\n",
    "\n",
    "Untuk memberikan gambaran mengenai hasil model, kita dapat menggambar scatter plot yang sama dengan ditambah kurva '*boundary decision*'. Pada gambar di bawah ini, garis berwarna hijau menunjukkan batas yang membedakan antara 'wilayah' kelas 0 dan 'wilayah' kelas 1. Sebagai ilustrasi, titik berwarna oranye di bawah garis hijau menandakan False Positive, karena label yang benar adalah 1, namun model memutuskan bahwa titik tersebut masuk dalam wilayah kelas 0."
   ]
  },
  {
   "cell_type": "code",
   "execution_count": null,
   "metadata": {
    "colab": {
     "base_uri": "https://localhost:8080/",
     "height": 279
    },
    "executionInfo": {
     "elapsed": 639,
     "status": "ok",
     "timestamp": 1644671161887,
     "user": {
      "displayName": "Yozef Giovanni Tjandra",
      "photoUrl": "https://lh3.googleusercontent.com/a/default-user=s64",
      "userId": "03277432154125538365"
     },
     "user_tz": -420
    },
    "id": "tJ38yuaDfduh",
    "outputId": "733bec68-5749-4b18-f5ff-04ec1b2ae3a4"
   },
   "outputs": [],
   "source": [
    "[theta0, theta1, theta2] = theta\n",
    "m = -theta1 / theta2\n",
    "b = -theta0 / theta2\n",
    "\n",
    "def boundary(x, m, b):\n",
    "  return m*x + b\n",
    "\n",
    "x_plot = np.linspace(30, 100, 1000)\n",
    "y_plot = boundary(x_plot, m, b)\n",
    "data_boundary = pd.DataFrame({\"x\": x_plot, \"y\": y_plot})\n",
    "\n",
    "p1 = sns.scatterplot(x=\"x1\", y=\"x2\", hue='Class', data=data)\n",
    "p2 = sns.lineplot(data=data_boundary, x='x', y='y', color='g')"
   ]
  },
  {
   "cell_type": "markdown",
   "metadata": {
    "id": "WNxvpDG_hGHr"
   },
   "source": [
    "## Membuat Confusion Matrix\n",
    "\n",
    "Untuk mengevaluasi keberhasilan model yang sudah dibuat, buatlah Confusion Matrixnya. Setelah confusion matrix dihitung, maka ukuran performansi lainnya dapat dibuat, seperti accuracy, precision, recall, dan F1."
   ]
  },
  {
   "cell_type": "code",
   "execution_count": null,
   "metadata": {
    "colab": {
     "base_uri": "https://localhost:8080/"
    },
    "executionInfo": {
     "elapsed": 388,
     "status": "ok",
     "timestamp": 1644673297107,
     "user": {
      "displayName": "Yozef Giovanni Tjandra",
      "photoUrl": "https://lh3.googleusercontent.com/a/default-user=s64",
      "userId": "03277432154125538365"
     },
     "user_tz": -420
    },
    "id": "BS8o3yLR_f6o",
    "outputId": "3703b3db-dbe8-445f-9b50-a5422e42ac7b"
   },
   "outputs": [],
   "source": [
    "# y_true adalah vektor yang berisi label yang sesungguhnya (dari data latih)\n",
    "# y_pred adalah vektor yang berisi label dari hasil prediksi model\n",
    "\n",
    "def create_confusion_matrix(y_true, y_pred):\n",
    "  # isi kode di sini\n",
    "  return # isi kode di sini\n",
    "\n",
    "c_mat = create_confusion_matrix(y, y_pred)\n",
    "[[TP, FN], [FP, TN]] = c_mat\n",
    "\n",
    "# Menghitung berbagai ukuran performansi model\n",
    "accuracy = (TP + TN) / (TP + TN + FP + FN)\n",
    "precision = TP / (TP + FP)\n",
    "recall = TP / (TP + FN)\n",
    "F1 = 2 * (precision * recall) / (precision + recall)\n",
    "print(accuracy, precision, recall, F1)"
   ]
  },
  {
   "cell_type": "markdown",
   "metadata": {
    "id": "GBp0ZPDkOSow"
   },
   "source": [
    "# II. Klasifikasi Multikelas\n",
    "\n",
    "**Tujuan Pembelajaran:** mampu menggunakan sklearn untuk menerapkan tugas klasifikasi multikelas terhadap data nyata.\n",
    "\n",
    "Dalam halaman ini, modul akan mendemonstrasikan penggunaan library sklearn untuk suatu dataset Iris yang sangat terkenal dan klasik. Sementara itu, Anda akan diberikan sebuah data latih untuk klasifikasi biji kedelai. Anda diminta untuk **mereplikasi langkah-langkah yang dicontohkan untuk diterapkan ke dataset biji kedelai**. Gantilah code di bawah ini beserta dengan penjelasannya menjadi sesuai untuk kasus biji kedelai.\n",
    "\n",
    "Credit Dataset:\n",
    "\n",
    "KOKLU, M. and OZKAN, I.A., (2020), \"*Multiclass Classification of Dry Beans Using Computer Vision and Machine Learning Techniques.*\" Computers and Electronics in Agriculture, 174, 105507."
   ]
  },
  {
   "cell_type": "code",
   "execution_count": null,
   "metadata": {
    "id": "cycEonnrOLHy"
   },
   "outputs": [],
   "source": [
    "import numpy as np\n",
    "import matplotlib.pyplot as plt\n",
    "import seaborn as sns\n",
    "import pandas as pd\n",
    "import sklearn"
   ]
  },
  {
   "cell_type": "markdown",
   "metadata": {
    "id": "ohJSsTv7lEyq"
   },
   "source": [
    "## Memuat Dataset"
   ]
  },
  {
   "cell_type": "code",
   "execution_count": null,
   "metadata": {},
   "outputs": [],
   "source": [
    "from sklearn import datasets\n",
    "# dataset Iris tersedia di library sklearn karena sudah sangat klasik.\n",
    "\n",
    "# load dataset\n",
    "iris = datasets.load_iris()\n",
    "\n",
    "# Create a dataframe\n",
    "df = pd.DataFrame(iris.data, columns = iris.feature_names)\n",
    "df['target'] = iris.target\n",
    "X = iris.data\n",
    "display(df)\n",
    "\n",
    "# Notes:\n",
    "# the labels 0, 1, 2 at \"target\" column represent Iris species ‘setosa’, ‘versicolor’, and ‘virginica’, respectively."
   ]
  },
  {
   "cell_type": "code",
   "execution_count": null,
   "metadata": {
    "colab": {
     "base_uri": "https://localhost:8080/",
     "height": 423
    },
    "executionInfo": {
     "elapsed": 358,
     "status": "ok",
     "timestamp": 1644763907183,
     "user": {
      "displayName": "Yozef Giovanni Tjandra",
      "photoUrl": "https://lh3.googleusercontent.com/a/default-user=s64",
      "userId": "03277432154125538365"
     },
     "user_tz": -420
    },
    "id": "PA8i5IqujiVx",
    "outputId": "5d79bda2-fc60-4b93-fc0a-2498a3b8877e"
   },
   "outputs": [],
   "source": [
    "# dataset drybeans\n",
    "data = pd.read_csv('Dry_Beans_Dataset.csv')\n",
    "display(data)"
   ]
  },
  {
   "cell_type": "markdown",
   "metadata": {
    "id": "wLSRSYWzlTf6"
   },
   "source": [
    "## Mempersiapkan Data Latih dan Data Uji"
   ]
  },
  {
   "cell_type": "code",
   "execution_count": null,
   "metadata": {
    "colab": {
     "base_uri": "https://localhost:8080/",
     "height": 830
    },
    "executionInfo": {
     "elapsed": 331,
     "status": "ok",
     "timestamp": 1644766564992,
     "user": {
      "displayName": "Yozef Giovanni Tjandra",
      "photoUrl": "https://lh3.googleusercontent.com/a/default-user=s64",
      "userId": "03277432154125538365"
     },
     "user_tz": -420
    },
    "id": "Zrgj86VuloHL",
    "outputId": "f281f9c9-f860-4f1c-9543-0cef53b39ab4"
   },
   "outputs": [],
   "source": [
    "from sklearn.model_selection import train_test_split\n",
    "\n",
    "X = df.drop([\"target\"], axis = 1)\n",
    "y = df[[\"target\"]]\n",
    "\n",
    "X_train,X_test,y_train,y_test=train_test_split(X,y,test_size=0.2,random_state=1)\n",
    "display(X_train)\n",
    "display(y_train)"
   ]
  },
  {
   "cell_type": "markdown",
   "metadata": {
    "id": "CqA56cEZmgHp"
   },
   "source": [
    "## Membangun Model Klasifikasi"
   ]
  },
  {
   "cell_type": "code",
   "execution_count": null,
   "metadata": {
    "colab": {
     "base_uri": "https://localhost:8080/",
     "height": 1000
    },
    "executionInfo": {
     "elapsed": 486,
     "status": "ok",
     "timestamp": 1644766568326,
     "user": {
      "displayName": "Yozef Giovanni Tjandra",
      "photoUrl": "https://lh3.googleusercontent.com/a/default-user=s64",
      "userId": "03277432154125538365"
     },
     "user_tz": -420
    },
    "id": "ROKfjWPlmiaJ",
    "outputId": "3e591f41-0f70-4d4a-dfce-607c3f54ca2a"
   },
   "outputs": [],
   "source": [
    "from sklearn.linear_model import LogisticRegression\n",
    "\n",
    "# Define the classifier\n",
    "logreg = LogisticRegression()\n",
    "\n",
    "# Performing the model building\n",
    "logreg.fit(X_train,y_train)\n",
    "\n",
    "# Predicting the labels of the test dataset\n",
    "y_pred=logreg.predict(X_test)\n",
    "\n",
    "# Comparing the true labels vs predicted labels\n",
    "compare = pd.DataFrame({\"y_true\": y_test[\"target\"], \"y_pred\": y_pred})\n",
    "display(compare)"
   ]
  },
  {
   "cell_type": "markdown",
   "metadata": {
    "id": "wgvly--ztlAW"
   },
   "source": [
    "## Membuat Confusion Matrix"
   ]
  },
  {
   "cell_type": "code",
   "execution_count": null,
   "metadata": {
    "colab": {
     "base_uri": "https://localhost:8080/",
     "height": 338
    },
    "executionInfo": {
     "elapsed": 934,
     "status": "ok",
     "timestamp": 1644766572426,
     "user": {
      "displayName": "Yozef Giovanni Tjandra",
      "photoUrl": "https://lh3.googleusercontent.com/a/default-user=s64",
      "userId": "03277432154125538365"
     },
     "user_tz": -420
    },
    "id": "WQ2Y6-M-tpMc",
    "outputId": "780dd27d-9175-4537-bcad-7fd3190299a4"
   },
   "outputs": [],
   "source": [
    "from sklearn import metrics\n",
    "\n",
    "# Fungsi untuk menghitung confusion matrix\n",
    "cnf_matrix = metrics.confusion_matrix(y_test, y_pred)\n",
    "\n",
    "### Berikut merupakan kode untuk memproduksi heatmap visualisasi confusion matrix\n",
    "\n",
    "# Tuliskan label dari masing-masing kelas sesuai urutan\n",
    "class_names= [\"setosa\", \"versicolor\",  \"virginica\"]\n",
    "\n",
    "# Membangun heatmap\n",
    "fig, ax = plt.subplots()\n",
    "sns.heatmap(pd.DataFrame(cnf_matrix), annot=True, cmap=\"YlGnBu\" ,fmt='g')\n",
    "ax.xaxis.set_label_position(\"top\")\n",
    "tick_marks = np.arange(len(class_names))\n",
    "plt.xticks(tick_marks, class_names, ha=\"left\")\n",
    "plt.yticks(tick_marks, class_names, rotation='horizontal')\n",
    "plt.tight_layout()\n",
    "plt.title('Confusion matrix', y=1.1)\n",
    "plt.ylabel('Actual label')\n",
    "plt.xlabel('Predicted label')"
   ]
  },
  {
   "cell_type": "markdown",
   "metadata": {
    "id": "Qirzz13lutka"
   },
   "source": [
    "## Menampilkan Ukuran Performansi Klasifikasi\n",
    "\n",
    "Dalam klasifikasi multi kelas, ukuran performasi seperti Accuracy, Precision, Recall, dan F1 dihitung nilainya untuk setiap label/kelas dari klasifikasi. Dengan demikian, ukuran performansi hasil model klasifikasi untuk suatu kelas mungkin bisa berbeda dibading ukuran untuk kelas lainnya."
   ]
  },
  {
   "cell_type": "code",
   "execution_count": null,
   "metadata": {
    "colab": {
     "base_uri": "https://localhost:8080/"
    },
    "executionInfo": {
     "elapsed": 346,
     "status": "ok",
     "timestamp": 1644766727713,
     "user": {
      "displayName": "Yozef Giovanni Tjandra",
      "photoUrl": "https://lh3.googleusercontent.com/a/default-user=s64",
      "userId": "03277432154125538365"
     },
     "user_tz": -420
    },
    "id": "XaUVOnZrvIGh",
    "outputId": "1de78bb2-9f2f-4824-c748-0b7dfdec5457"
   },
   "outputs": [],
   "source": [
    "from sklearn.metrics import classification_report\n",
    "\n",
    "print(classification_report(y_test, y_pred))"
   ]
  },
  {
   "cell_type": "markdown",
   "metadata": {
    "id": "dJVyi5QBvL3h"
   },
   "source": [
    "## Membuat kesimpulan akhir\n",
    "\n",
    "Berdasarkan nilai pada confusion matrix, dapat dilihat bahwa klasifikasi dengan menggunakan regresi logistik telah berjalan dengan sangat baik, yaitu hanya terdapat 1 kali kesalahan saja di antara seluruh data uji yang tersedia. Kelas yang menerima ukuran  performansi yang sempurna adalah kelas 0, yaitu species 'Setosa'. Untuk kedua model yang lain, terdapat 1 buah hasil prediksi yang tidak sesuai dengan label yang seharusnya. Namun demikian, nilai F1-score untuk kedua kelas tersebut masih di atas 90%. Artinya model yang sudah ada cukup terandalkan untuk diterapkan untuk memprediksi label dari variabel input baru."
   ]
  },
  {
   "cell_type": "code",
   "execution_count": null,
   "metadata": {
    "id": "22Q57U7Hw6-X"
   },
   "outputs": [],
   "source": []
  },
  {
   "cell_type": "code",
   "execution_count": null,
   "metadata": {},
   "outputs": [],
   "source": []
  }
 ],
 "metadata": {
  "colab": {
   "authorship_tag": "ABX9TyNe2RuXA1aXVcrDvKS6kGg1",
   "mount_file_id": "1uvqOAmVUU-eFXm_9N3xrKJGDPe2HKyf2",
   "name": "4.1 Gradient Descent untuk Regresi Logistik - Templat.ipynb",
   "provenance": [],
   "toc_visible": true
  },
  "kernelspec": {
   "display_name": "Python 3 (ipykernel)",
   "language": "python",
   "name": "python3"
  },
  "language_info": {
   "codemirror_mode": {
    "name": "ipython",
    "version": 3
   },
   "file_extension": ".py",
   "mimetype": "text/x-python",
   "name": "python",
   "nbconvert_exporter": "python",
   "pygments_lexer": "ipython3",
   "version": "3.9.13"
  },
  "vscode": {
   "interpreter": {
    "hash": "87d6089f6830b7f57ba782f7ce133a16ae597a4a9c849f988749a793e30c8bf9"
   }
  }
 },
 "nbformat": 4,
 "nbformat_minor": 1
}
